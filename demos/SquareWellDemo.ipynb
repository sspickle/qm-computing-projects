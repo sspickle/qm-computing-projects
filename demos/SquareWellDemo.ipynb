{
 "cells": [
  {
   "cell_type": "code",
   "execution_count": null,
   "metadata": {},
   "outputs": [
    {
     "data": {
      "text/html": [
       "<div id=\"glowscript\" class=\"glowscript\"></div>"
      ],
      "text/plain": [
       "<IPython.core.display.HTML object>"
      ]
     },
     "metadata": {},
     "output_type": "display_data"
    },
    {
     "data": {
      "application/javascript": [
       "if (typeof Jupyter !== \"undefined\") { window.__context = { glowscript_container: $(\"#glowscript\").removeAttr(\"id\")};}else{ element.textContent = ' ';}"
      ],
      "text/plain": [
       "<IPython.core.display.Javascript object>"
      ]
     },
     "metadata": {},
     "output_type": "display_data"
    },
    {
     "data": {
      "application/javascript": [
       "if (typeof Jupyter !== \"undefined\") {require.undef(\"nbextensions/vpython_libraries/glow.min\");}else{element.textContent = ' ';}"
      ],
      "text/plain": [
       "<IPython.core.display.Javascript object>"
      ]
     },
     "metadata": {},
     "output_type": "display_data"
    },
    {
     "data": {
      "application/javascript": [
       "if (typeof Jupyter !== \"undefined\") {require.undef(\"nbextensions/vpython_libraries/glowcomm\");}else{element.textContent = ' ';}"
      ],
      "text/plain": [
       "<IPython.core.display.Javascript object>"
      ]
     },
     "metadata": {},
     "output_type": "display_data"
    },
    {
     "data": {
      "application/javascript": [
       "if (typeof Jupyter !== \"undefined\") {require.undef(\"nbextensions/vpython_libraries/jquery-ui.custom.min\");}else{element.textContent = ' ';}"
      ],
      "text/plain": [
       "<IPython.core.display.Javascript object>"
      ]
     },
     "metadata": {},
     "output_type": "display_data"
    },
    {
     "data": {
      "application/javascript": [
       "if (typeof Jupyter !== \"undefined\") {require([\"nbextensions/vpython_libraries/glow.min\"], function(){console.log(\"GLOW LOADED\");});}else{element.textContent = ' ';}"
      ],
      "text/plain": [
       "<IPython.core.display.Javascript object>"
      ]
     },
     "metadata": {},
     "output_type": "display_data"
    },
    {
     "data": {
      "application/javascript": [
       "if (typeof Jupyter !== \"undefined\") {require([\"nbextensions/vpython_libraries/glowcomm\"], function(){console.log(\"GLOWCOMM LOADED\");});}else{element.textContent = ' ';}"
      ],
      "text/plain": [
       "<IPython.core.display.Javascript object>"
      ]
     },
     "metadata": {},
     "output_type": "display_data"
    },
    {
     "data": {
      "application/javascript": [
       "if (typeof Jupyter !== \"undefined\") {require([\"nbextensions/vpython_libraries/jquery-ui.custom.min\"], function(){console.log(\"JQUERY LOADED\");});}else{element.textContent = ' ';}"
      ],
      "text/plain": [
       "<IPython.core.display.Javascript object>"
      ]
     },
     "metadata": {},
     "output_type": "display_data"
    }
   ],
   "source": [
    "import vpython as vp\n",
    "import numpy as np\n",
    "\n",
    "from ThreeD_QM_Models import TwoStateModelDemo\n",
    "\n",
    "vp.canvas()\n",
    "\n",
    "\"\"\"\n",
    "A 3D representation of a superposition of two 1D quantum states using the y and z directions\n",
    " to represent the phasor wave function.\n",
    "\"\"\"\n",
    "omega = 1.0\n",
    "L = 1.0\n",
    "N = 100 # number of phasors to model line..\n",
    "xarray = np.linspace(0, L, N)\n",
    "t=0.0\n",
    "dt=0.01\n",
    "\n",
    "props = {'t':0, 'relPhase':0, 'gndPhase':0, 'updateScreen':True}\n",
    "\n",
    "def state(n, x, t):\n",
    "    \"\"\"\n",
    "    return the value of the (not normalized) psi(x,t) for the nth quantum state\n",
    "    \"\"\"\n",
    "        \n",
    "    if props['relPhase']:\n",
    "        return np.sin(n*np.pi*(x+L/2)/L)*np.exp(-1j*((n*n - 1)*omega*t + props['gndPhase']))\n",
    "    else:\n",
    "        return np.sin(n*np.pi*(x+L/2)/L)*np.exp(-1j*(n*n)*omega*t)\n",
    "\n",
    "TSM = TwoStateModelDemo(xarray, state)\n",
    "\n",
    "def One(b):\n",
    "    TSM.toggleVisible(1)\n",
    "\n",
    "vp.button( bind=One, text='1' )\n",
    "\n",
    "def Two(b):\n",
    "    TSM.toggleVisible(2)\n",
    "\n",
    "vp.button( bind=Two, text='2' )\n",
    "\n",
    "def Sum(b):\n",
    "    TSM.toggleVisible(3)\n",
    "    \n",
    "vp.button( bind=Sum, text='Sum' )\n",
    "\n",
    "def Prob(b):\n",
    "    TSM.toggleVisible(4)\n",
    "    \n",
    "vp.button( bind=Prob, text='Prob' )\n",
    "\n",
    "def Phase(b):\n",
    "    props['relPhase'] ^= 1\n",
    "    if props['relPhase']:\n",
    "        props['gndPhase'] = omega*props['t']\n",
    "    else:\n",
    "        props['t']=props['gndPhase']/omega\n",
    "    \n",
    "vp.button( bind=Phase, text='Phase' )\n",
    "\n",
    "def Pause(b):\n",
    "    props['updateScreen'] ^= 1\n",
    "    \n",
    "vp.button( bind=Pause, text='Pause' )\n",
    "\n",
    "\n",
    "while True:\n",
    "    vp.rate(100)\n",
    "    if props['updateScreen']:\n",
    "        TSM.update(props['t'])\n",
    "        props['t'] += dt\n"
   ]
  },
  {
   "cell_type": "code",
   "execution_count": null,
   "metadata": {},
   "outputs": [],
   "source": []
  },
  {
   "cell_type": "code",
   "execution_count": null,
   "metadata": {},
   "outputs": [],
   "source": []
  }
 ],
 "metadata": {
  "kernelspec": {
   "display_name": "Python 3",
   "language": "python",
   "name": "python3"
  },
  "language_info": {
   "codemirror_mode": {
    "name": "ipython",
    "version": 3
   },
   "file_extension": ".py",
   "mimetype": "text/x-python",
   "name": "python",
   "nbconvert_exporter": "python",
   "pygments_lexer": "ipython3",
   "version": "3.8.3"
  }
 },
 "nbformat": 4,
 "nbformat_minor": 5
}
