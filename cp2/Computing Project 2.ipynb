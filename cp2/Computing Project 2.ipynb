{
 "cells": [
  {
   "cell_type": "markdown",
   "metadata": {},
   "source": [
    "Physics 460: Computing Project 2\n",
    "===================\n",
    "\n",
    "Representing Traveling Waves Visually with VPython\n",
    "--------------------------------------------------\n",
    "\n",
    "Last time we setup up a 3D arrow object that represented a phasor. This time, we'll\n",
    "create a 3D representation of a wavefunction of a free particle moving in the \n",
    "+x direction. Based on what we just learned we expect the wavefunction to be something like:\n",
    "\n",
    "\\begin{equation}\n",
    "\\Psi(x,t) = A e^{i(kx - \\omega t)}\\ \\ \\ \\ \\ \\ \\ \\ \\ {\\text (1)}\n",
    "\\end{equation}\n",
    "\n",
    "where $A$ is the magnitude of the wavefunction, $k$ is the wavenumber ($2\\pi/\\lambda$) and $\\omega$ is the\n",
    "angular frequency ($2\\pi/T = E/\\hbar$).\n",
    "\n",
    "1) Some more python tricks\n",
    "---------------------------\n",
    "\n",
    "To complete this project we're going to need a couple more bits of python knowledge. These are \n",
    "introduced below.\n",
    "\n",
    "1.1) Arrays\n",
    "------------\n",
    "\n",
    "An array is a bit like a list, except that all the elements of an array need\n",
    "to have the same type (e.g., all integers, all floating point, etc.). Arrays \n",
    "have a lot of capabilities that lists don't have but we'll learn these as we\n",
    "go along. For the moment the main thing you need to know is how to create\n",
    "them and how to use them in the simplest context. To get access to the array capabilities you need to import the array machinery from numpy using: `from numpy import *`.\n",
    "\n",
    "The easiest way to create an array is with the `array` constructor:"
   ]
  },
  {
   "cell_type": "code",
   "execution_count": 2,
   "metadata": {},
   "outputs": [
    {
     "name": "stdout",
     "output_type": "stream",
     "text": [
      "[1 9 4 3 5]\n",
      "array([1, 9, 4, 3, 5])\n",
      "<class 'numpy.ndarray'>\n"
     ]
    }
   ],
   "source": [
    "import vpython as vp     # import all vpython functions including numpy incompatible sin, cos, exp, etc\n",
    "import numpy as np       # import all numpy compatible version of functions includign incompatible \"rate\"\n",
    "\n",
    "x = np.array([1,9,4,3,5])\n",
    "\n",
    "print(x)\n",
    "print(repr(x))\n",
    "print(type(x))"
   ]
  },
  {
   "cell_type": "markdown",
   "metadata": {},
   "source": [
    "You can see that if you `print x` you get a list like output, but `repr(x)` gives you \n",
    "something that looks like a constructor and `type(x)` tells you the actual python\n",
    "type of the object (in this case it's `numpy.ndarray`). There are several helpful\n",
    "utility functions that are nice for creating arrays. One I love is {\\tt linspace}. With \n",
    "{\\tt linspace} you can easily create an array with specific begin and end points with a \n",
    "specific number of elements. Here's an example... say I want an array with 5 elements\n",
    "including numbers varying from $-\\pi$ to $\\pi$:"
   ]
  },
  {
   "cell_type": "code",
   "execution_count": 3,
   "metadata": {},
   "outputs": [
    {
     "name": "stdout",
     "output_type": "stream",
     "text": [
      "[-3.14159265 -1.57079633  0.          1.57079633  3.14159265]\n"
     ]
    }
   ],
   "source": [
    "x = np.linspace(-pi, pi, 5)\n",
    "print(x)\n"
   ]
  },
  {
   "cell_type": "markdown",
   "metadata": {},
   "source": [
    "Notice that {\\tt linspace} automatically calculated ($-pi$, $-\\pi/2$, $0$, $\\pi/2$, and $\\pi$).\n",
    "This works just as well with 100 or 1000 element arrays, so you can see it's quite handy. Probably\n",
    "the single most useful property of arrays is that they can participate in arithmetic and they \n",
    "usually do the right thing. So for example:"
   ]
  },
  {
   "cell_type": "code",
   "execution_count": 4,
   "metadata": {},
   "outputs": [
    {
     "name": "stdout",
     "output_type": "stream",
     "text": [
      "[9.8696044 2.4674011 0.        2.4674011 9.8696044]\n"
     ]
    }
   ],
   "source": [
    "print(x**2)"
   ]
  },
  {
   "cell_type": "code",
   "execution_count": 6,
   "metadata": {},
   "outputs": [
    {
     "name": "stdout",
     "output_type": "stream",
     "text": [
      "[-1.000000e+00  6.123234e-17  1.000000e+00  6.123234e-17 -1.000000e+00]\n"
     ]
    }
   ],
   "source": [
    "print(np.cos(x))"
   ]
  },
  {
   "cell_type": "code",
   "execution_count": 7,
   "metadata": {},
   "outputs": [
    {
     "name": "stdout",
     "output_type": "stream",
     "text": [
      "[-1.2246468e-16 -1.0000000e+00  0.0000000e+00  1.0000000e+00\n",
      "  1.2246468e-16]\n"
     ]
    }
   ],
   "source": [
    "print(np.sin(x))"
   ]
  },
  {
   "cell_type": "code",
   "execution_count": 8,
   "metadata": {},
   "outputs": [
    {
     "name": "stdout",
     "output_type": "stream",
     "text": [
      "[-1.000000e+00-1.2246468e-16j  6.123234e-17-1.0000000e+00j\n",
      "  1.000000e+00+0.0000000e+00j  6.123234e-17+1.0000000e+00j\n",
      " -1.000000e+00+1.2246468e-16j]\n"
     ]
    }
   ],
   "source": [
    "print(np.exp(1j*x))"
   ]
  },
  {
   "cell_type": "markdown",
   "metadata": {},
   "source": [
    "When you pass an array in to a function, the function operates on each element of the array and returns\n",
    "a new array with the result of each operation in the corresponding element of the resulting array. Neat!\n",
    "\n",
    "1.2) New orientation...\n",
    "------------------------\n",
    "\n",
    "We want to represent the wavefunction of a particle moving in the $x$ direction. At each value of $x$\n",
    "the wavefunction has a complex value. We can't really use the $x$ direction to represent the real part\n",
    "of the complex number since that's the direction in which the complex number varies! So... luckily we're\n",
    "living in a universe with 3 large dimensions of space (we can discuss the small dimensions some other time).\n",
    "We can use one dimension for the motion of the particle, and have two dimensions left over for the\n",
    "real and imaginary parts of the wave function! This means we're going to switch from using the $x$ and $y$ \n",
    "components of our arrows as the real and imaginary parts to having the $y$ and $z$ components being\n",
    "the real and imaginary parts. So... the {\\tt SetArrowFromCN} function needs to change:"
   ]
  },
  {
   "cell_type": "code",
   "execution_count": 7,
   "metadata": {},
   "outputs": [],
   "source": [
    "def SetArrowFromCN( cn, a):\n",
    "    \"\"\"\n",
    "    SetArrowFromCN takes a complex number 'cn'  and an arrow object 'a'.\n",
    "    It sets the  y  and  z  components of the arrow s axis to the real \n",
    "    and imaginary parts of the given complex number. \n",
    "\n",
    "    Just like Computing Project 1, except y and z for real/imag.\n",
    "    \"\"\"\n",
    "    a.axis.y = cn.real\n",
    "    a.axis.z = cn.imag"
   ]
  },
  {
   "cell_type": "markdown",
   "metadata": {},
   "source": [
    "Notice that the only real change is $(x,y) \\rightarrow (y,z)$.\n",
    "\n",
    "1.3) The `range` function\n",
    "------------------------------\n",
    "\n",
    "There is a great iterator constructor called {\\tt range}. It was included in the doc\n",
    "for the last project, but it's quite simple. It just returns\n",
    "a list based on the arguments you pass. If you pass the length of a list as the\n",
    "only argument, it returns a list of indices for that list. So... "
   ]
  },
  {
   "cell_type": "code",
   "execution_count": 9,
   "metadata": {},
   "outputs": [
    {
     "name": "stdout",
     "output_type": "stream",
     "text": [
      "0 -3.141592653589793\n",
      "1 -1.5707963267948966\n",
      "2 0.0\n",
      "3 1.5707963267948966\n",
      "4 3.141592653589793\n"
     ]
    }
   ],
   "source": [
    "for i in range(len(x)):\n",
    "    print(i, x[i])"
   ]
  },
  {
   "cell_type": "markdown",
   "metadata": {},
   "source": [
    "1.4) Building a list of arrow objects\n",
    "-------------------------------------\n",
    "\n",
    "So.. now we have arrays and we know how to map complex numbers onto our arrows\n",
    "we can begin with the actual project. First let's create an array to keep\n",
    "track of the physical position of each or our arrows. Let's imagine we're\n",
    "looking at a portion of the $x$ axis where the particle is expected to be\n",
    "with more or less uniform probability. "
   ]
  },
  {
   "cell_type": "code",
   "execution_count": 10,
   "metadata": {},
   "outputs": [
    {
     "data": {
      "text/plain": [
       "array([-3.        , -2.68421053, -2.36842105, -2.05263158, -1.73684211,\n",
       "       -1.42105263, -1.10526316, -0.78947368, -0.47368421, -0.15789474,\n",
       "        0.15789474,  0.47368421,  0.78947368,  1.10526316,  1.42105263,\n",
       "        1.73684211,  2.05263158,  2.36842105,  2.68421053,  3.        ])"
      ]
     },
     "execution_count": 10,
     "metadata": {},
     "output_type": "execute_result"
    }
   ],
   "source": [
    "L=6.0\n",
    "x = np.linspace(-L/2, L/2, 20)\n",
    "x"
   ]
  },
  {
   "cell_type": "markdown",
   "metadata": {},
   "source": [
    "So the $x$ array is just a set of 20 values from -3.0 to +3.0. Let's make an \n",
    "arrow at each of these positions using a simple loop."
   ]
  },
  {
   "cell_type": "code",
   "execution_count": 12,
   "metadata": {},
   "outputs": [
    {
     "data": {
      "text/html": [
       "<div id=\"glowscript\" class=\"glowscript\"></div>"
      ],
      "text/plain": [
       "<IPython.core.display.HTML object>"
      ]
     },
     "metadata": {},
     "output_type": "display_data"
    },
    {
     "data": {
      "application/javascript": [
       "if (typeof Jupyter !== \"undefined\") { window.__context = { glowscript_container: $(\"#glowscript\").removeAttr(\"id\")};}else{ element.textContent = ' ';}"
      ],
      "text/plain": [
       "<IPython.core.display.Javascript object>"
      ]
     },
     "metadata": {},
     "output_type": "display_data"
    }
   ],
   "source": [
    "vp.canvas()\n",
    "\n",
    "alist=[]\n",
    "for i in range(len(x)):\n",
    "    a = vp.arrow(pos=vp.vec(x[i], 0, 0),  # on the y,z axis at location 'x'\n",
    "                 axis=vp.vec(0,1,0),      # pointing in the 'real' direction\n",
    "                 color=vp.color.red)      # make it red. ;->\n",
    "    alist.append(a)                       # add to list"
   ]
  },
  {
   "cell_type": "markdown",
   "metadata": {},
   "source": [
    "So now we have a list of 20 red arrows all pointing up!\n",
    "\n",
    "1.5) Applying the wave function\n",
    "--------------------------------\n",
    "\n",
    "How can we compute the value of the wave function (Eq.~1}) at these positions?\n",
    "Easy! We just use the feature of arrays that let's us compute the value of\n",
    "a function for each element of the array. Let's start by getting the\n",
    "function at $t=0$. Then the wave function is simply:\n",
    "\n",
    "\\begin{equation}\n",
    "\\Psi(x,0) = A e^{ikx}\n",
    "\\end{equation}\n",
    "\n",
    "Just to make sure we can see something, let's set $k$ to $3\\pi/L$ (that \n",
    "means in a distance $L$ the phase will change by $3\\pi$, or one and a\n",
    "half cycles)."
   ]
  },
  {
   "cell_type": "code",
   "execution_count": 13,
   "metadata": {},
   "outputs": [
    {
     "data": {
      "text/plain": [
       "array([-1.83697020e-16+1.j        , -4.75947393e-01+0.87947375j,\n",
       "       -8.37166478e-01+0.54694816j, -9.96584493e-01+0.08257935j,\n",
       "       -9.15773327e-01-0.40169542j, -6.14212713e-01-0.78914051j,\n",
       "       -1.64594590e-01-0.9863613j ,  3.24699469e-01-0.94581724j,\n",
       "        7.35723911e-01-0.67728157j,  9.69400266e-01-0.24548549j,\n",
       "        9.69400266e-01+0.24548549j,  7.35723911e-01+0.67728157j,\n",
       "        3.24699469e-01+0.94581724j, -1.64594590e-01+0.9863613j ,\n",
       "       -6.14212713e-01+0.78914051j, -9.15773327e-01+0.40169542j,\n",
       "       -9.96584493e-01-0.08257935j, -8.37166478e-01-0.54694816j,\n",
       "       -4.75947393e-01-0.87947375j, -1.83697020e-16-1.j        ])"
      ]
     },
     "execution_count": 13,
     "metadata": {},
     "output_type": "execute_result"
    }
   ],
   "source": [
    "k=3*np.pi/L\n",
    "psi=np.exp(1j*k*x)\n",
    "psi"
   ]
  },
  {
   "cell_type": "markdown",
   "metadata": {},
   "source": [
    "Now we just have to use the modified {\\tt SetArrowFromCN} function in our construction loop to\n",
    "set the direction of each phasor set correctly. Here's the whole project so far:"
   ]
  },
  {
   "cell_type": "code",
   "execution_count": 14,
   "metadata": {},
   "outputs": [
    {
     "data": {
      "text/html": [
       "<div id=\"glowscript\" class=\"glowscript\"></div>"
      ],
      "text/plain": [
       "<IPython.core.display.HTML object>"
      ]
     },
     "metadata": {},
     "output_type": "display_data"
    },
    {
     "data": {
      "application/javascript": [
       "if (typeof Jupyter !== \"undefined\") { window.__context = { glowscript_container: $(\"#glowscript\").removeAttr(\"id\")};}else{ element.textContent = ' ';}"
      ],
      "text/plain": [
       "<IPython.core.display.Javascript object>"
      ]
     },
     "metadata": {},
     "output_type": "display_data"
    }
   ],
   "source": [
    "vp.canvas()\n",
    "\n",
    "L=6.0                          # range of x is 6 units\n",
    "x = np.linspace(-L/2, L/2, 20)    # from -3 to +3\n",
    "k = 3*np.pi/L                     # set up the wave number\n",
    "psi = np.exp(1j*k*x)              # set up the initial wave function\n",
    "\n",
    "alist = []                     # an empty list for our arrow objects\n",
    "\n",
    "def SetArrowFromCN( cn, a):\n",
    "    \"\"\"\n",
    "    SetArrowFromCN takes a complex number  cn  and an arrow object  a .\n",
    "    It sets the  y  and  z  components of the arrow s axis to the real \n",
    "    and imaginary parts of the given complex number. \n",
    "\n",
    "    Just like Computing Project 1, except y and z for real/imag.\n",
    "    \"\"\"\n",
    "    a.axis.y = cn.real\n",
    "    a.axis.z = cn.imag\n",
    "\n",
    "for i in range(len(x)):\n",
    "    a = vp.arrow(pos=vp.vec(x[i], 0, 0),  # on the y,z axis at location 'x'\n",
    "                axis=vp.vec(0,1,0),       # pointing in the 'real' direction\n",
    "                color=vp.color.red)       # make it red. ;->\n",
    "    alist.append(a)                       # add to list\n",
    "    SetArrowFromCN( psi[i], a)            # set up arrow from wave function"
   ]
  },
  {
   "cell_type": "markdown",
   "metadata": {},
   "source": [
    "1.6) Turning on the time\n",
    "-------------------------\n",
    "\n",
    "Next we need to add the time component as in Eq. 1. Add a set of nested loops, similar to last week's loop that sets the orientation of each arrow in the list based on the current time and the initial phase of the arrow at each position. At a moment in time you should see somethig like this:\n",
    "\n",
    "<img src=\"https://github.com/sspickle/qm-computing-projects/blob/master/cp2/3d-twave.png?raw=true\"\n",
    "alt=\"Travelling Wave\" style=\"width: 400px;\"/>\n",
    "\n",
    "Here's a start that you can use to finish this project:"
   ]
  },
  {
   "cell_type": "code",
   "execution_count": null,
   "metadata": {},
   "outputs": [
    {
     "data": {
      "text/html": [
       "<div id=\"glowscript\" class=\"glowscript\"></div>"
      ],
      "text/plain": [
       "<IPython.core.display.HTML object>"
      ]
     },
     "metadata": {},
     "output_type": "display_data"
    },
    {
     "data": {
      "application/javascript": [
       "if (typeof Jupyter !== \"undefined\") { window.__context = { glowscript_container: $(\"#glowscript\").removeAttr(\"id\")};}else{ element.textContent = ' ';}"
      ],
      "text/plain": [
       "<IPython.core.display.Javascript object>"
      ]
     },
     "metadata": {},
     "output_type": "display_data"
    }
   ],
   "source": [
    "vp.canvas()  # open a new vpython window\n",
    "\n",
    "omega = 2*np.pi             # 1 rev/sec\n",
    "t=0.0                       # start t at zero\n",
    "dt=0.01                     # 1/100 of a second per step\n",
    "\n",
    "while 1:\n",
    "    vp.rate(100)\n",
    "    t+=dt\n",
    "    for i in range(len(x)):\n",
    "        #\n",
    "        # Put your code here to set the orientation of the \"i\"th arrow \n",
    "        # in the list \"alist\".\n",
    "        #\n",
    "        pass # replace this with your code\n",
    "\n",
    "    break # take this out when you put in your code!\n"
   ]
  },
  {
   "cell_type": "markdown",
   "metadata": {},
   "source": [
    "Please answer these questions at the end of your report.\n",
    "\n",
    "1) Which way does the wave appear to move? Why is it moving this way?\n",
    "\n",
    "2) With what velocity do the wave \"crests\" move? Why?\n",
    "\n",
    "3) What could you change about the {\\it spatial} behavior of the wavefunction to make the waves appear to move in the opposite direction? No fair modifying the time part! Use your program to verify your answer. How does changing the spatial behavior of the wavefunction affect the expectation value of the momentum operator?"
   ]
  }
 ],
 "metadata": {
  "kernelspec": {
   "display_name": "VPython",
   "language": "python",
   "name": "vpython"
  },
  "language_info": {
   "codemirror_mode": {
    "name": "ipython",
    "version": 3
   },
   "file_extension": ".py",
   "mimetype": "text/x-python",
   "name": "python",
   "nbconvert_exporter": "python",
   "pygments_lexer": "ipython3",
   "version": "3.8.3"
  }
 },
 "nbformat": 4,
 "nbformat_minor": 2
}
