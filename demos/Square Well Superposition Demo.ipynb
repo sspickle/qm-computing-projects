{
 "cells": [
  {
   "cell_type": "markdown",
   "id": "liked-upset",
   "metadata": {},
   "source": [
    "Square Well superposition demo\n",
    "--------------------------------------\n",
    "\n"
   ]
  },
  {
   "cell_type": "code",
   "execution_count": null,
   "id": "distributed-start",
   "metadata": {},
   "outputs": [
    {
     "data": {
      "text/html": [
       "<div id=\"glowscript\" class=\"glowscript\"></div>"
      ],
      "text/plain": [
       "<IPython.core.display.HTML object>"
      ]
     },
     "metadata": {},
     "output_type": "display_data"
    },
    {
     "data": {
      "application/javascript": [
       "if (typeof Jupyter !== \"undefined\") { window.__context = { glowscript_container: $(\"#glowscript\").removeAttr(\"id\")};}else{ element.textContent = ' ';}"
      ],
      "text/plain": [
       "<IPython.core.display.Javascript object>"
      ]
     },
     "metadata": {},
     "output_type": "display_data"
    },
    {
     "data": {
      "text/html": [
       "<div id=\"glowscript\" class=\"glowscript\"></div>"
      ],
      "text/plain": [
       "<IPython.core.display.HTML object>"
      ]
     },
     "metadata": {},
     "output_type": "display_data"
    },
    {
     "data": {
      "application/javascript": [
       "if (typeof Jupyter !== \"undefined\") { window.__context = { glowscript_container: $(\"#glowscript\").removeAttr(\"id\")};}else{ element.textContent = ' ';}"
      ],
      "text/plain": [
       "<IPython.core.display.Javascript object>"
      ]
     },
     "metadata": {},
     "output_type": "display_data"
    },
    {
     "data": {
      "application/javascript": [
       "if (typeof Jupyter !== \"undefined\") {require.undef(\"nbextensions/vpython_libraries/glow.min\");}else{element.textContent = ' ';}"
      ],
      "text/plain": [
       "<IPython.core.display.Javascript object>"
      ]
     },
     "metadata": {},
     "output_type": "display_data"
    },
    {
     "data": {
      "application/javascript": [
       "if (typeof Jupyter !== \"undefined\") {require.undef(\"nbextensions/vpython_libraries/glowcomm\");}else{element.textContent = ' ';}"
      ],
      "text/plain": [
       "<IPython.core.display.Javascript object>"
      ]
     },
     "metadata": {},
     "output_type": "display_data"
    },
    {
     "data": {
      "application/javascript": [
       "if (typeof Jupyter !== \"undefined\") {require.undef(\"nbextensions/vpython_libraries/jquery-ui.custom.min\");}else{element.textContent = ' ';}"
      ],
      "text/plain": [
       "<IPython.core.display.Javascript object>"
      ]
     },
     "metadata": {},
     "output_type": "display_data"
    },
    {
     "data": {
      "application/javascript": [
       "if (typeof Jupyter !== \"undefined\") {require([\"nbextensions/vpython_libraries/glow.min\"], function(){console.log(\"GLOW LOADED\");});}else{element.textContent = ' ';}"
      ],
      "text/plain": [
       "<IPython.core.display.Javascript object>"
      ]
     },
     "metadata": {},
     "output_type": "display_data"
    },
    {
     "data": {
      "application/javascript": [
       "if (typeof Jupyter !== \"undefined\") {require([\"nbextensions/vpython_libraries/glowcomm\"], function(){console.log(\"GLOWCOMM LOADED\");});}else{element.textContent = ' ';}"
      ],
      "text/plain": [
       "<IPython.core.display.Javascript object>"
      ]
     },
     "metadata": {},
     "output_type": "display_data"
    },
    {
     "data": {
      "application/javascript": [
       "if (typeof Jupyter !== \"undefined\") {require([\"nbextensions/vpython_libraries/jquery-ui.custom.min\"], function(){console.log(\"JQUERY LOADED\");});}else{element.textContent = ' ';}"
      ],
      "text/plain": [
       "<IPython.core.display.Javascript object>"
      ]
     },
     "metadata": {},
     "output_type": "display_data"
    }
   ],
   "source": [
    "import vpython as vp\n",
    "import numpy as np\n",
    "\n",
    "from ThreeD_QM_Models import SqWellSupDemo\n",
    "\n",
    "vp.canvas()\n",
    "\n",
    "\"\"\"\n",
    "A 3D representation of a superposition of two 1D quantum states using the y and z directions\n",
    " to represent the phasor wave function.\n",
    "\"\"\"\n",
    "\n",
    "omega = 1.0\n",
    "L = 1.0\n",
    "N = 100 # number of phasors to model line..\n",
    "xarray = np.linspace(0, L, N)\n",
    "t=0.0\n",
    "dt=0.01\n",
    "gndPhase = 0.0  # phase of gnd state, useful for \"rotating\" with the gnd state\n",
    "\n",
    "def state(n, x, t):\n",
    "    \"\"\"\n",
    "    return the value of the (not normalized) psi(x,t) for the nth quantum state\n",
    "    \"\"\"\n",
    "    return (1.0/(np.pi*n))*(1.0-np.cos(n*np.pi/2))*np.sin(n*np.pi*(x+L/2)/L)*np.exp(-1j*(n*n)*omega*t)\n",
    "            \n",
    "TSM = SqWellSupDemo(xarray, state, Nterms=7)\n",
    "updateScreen = False\n",
    "TSM.update(0.0)\n",
    "\n",
    "props = {'t':0, 'relPhase':0, 'gndPhase':0, 'updateScreen':True}\n",
    "\n",
    "def Num(b):\n",
    "    TSM.toggleVisible(int(b.text))\n",
    "\n",
    "vp.button( bind=Num, text='1' )\n",
    "vp.button( bind=Num, text='2' )\n",
    "vp.button( bind=Num, text='3' )\n",
    "vp.button( bind=Num, text='4' )\n",
    "vp.button( bind=Num, text='5' )\n",
    "vp.button( bind=Num, text='6' )\n",
    "vp.button( bind=Num, text='7' )\n",
    "\n",
    "def Sup(b):\n",
    "    TSM.toggleVisible(8)\n",
    "\n",
    "vp.button( bind=Sup, text='Sup.' )\n",
    "\n",
    "def Prob(b):\n",
    "    TSM.toggleVisible(9)\n",
    "    \n",
    "vp.button( bind=Prob, text='Prob.' )\n",
    "    \n",
    "def Pause(b):\n",
    "    props['updateScreen'] ^= 1\n",
    "    \n",
    "vp.button( bind=Pause, text='Pause' )\n",
    "\n",
    "def StepPlus(b):\n",
    "    props['t'] += dt\n",
    "    TSM.update(props['t'])\n",
    "    props['updateScreen'] = 0\n",
    "    \n",
    "def StepMinus(b):\n",
    "    props['t'] -= dt\n",
    "    TSM.update(props['t'])\n",
    "    props['updateScreen'] = 0\n",
    "    \n",
    "vp.button( bind=Prob, text='Prob.' )\n",
    "\n",
    "vp.button( bind=StepPlus, text='+' )\n",
    "\n",
    "vp.button( bind=StepMinus, text='-' )\n",
    "\n",
    "while True:\n",
    "    vp.rate(100)\n",
    "    if props['updateScreen']:\n",
    "        TSM.update(props['t'])\n",
    "        props['t'] += dt\n",
    "\n",
    "\n"
   ]
  },
  {
   "cell_type": "code",
   "execution_count": null,
   "id": "stuffed-sharp",
   "metadata": {},
   "outputs": [],
   "source": []
  }
 ],
 "metadata": {
  "kernelspec": {
   "display_name": "Python 3",
   "language": "python",
   "name": "python3"
  },
  "language_info": {
   "codemirror_mode": {
    "name": "ipython",
    "version": 3
   },
   "file_extension": ".py",
   "mimetype": "text/x-python",
   "name": "python",
   "nbconvert_exporter": "python",
   "pygments_lexer": "ipython3",
   "version": "3.8.5"
  }
 },
 "nbformat": 4,
 "nbformat_minor": 5
}
